{
 "cells": [
  {
   "cell_type": "code",
   "execution_count": 1,
   "metadata": {},
   "outputs": [
    {
     "name": "stdout",
     "output_type": "stream",
     "text": [
      "Ungültige Eingabe. Bitte geben Sie eine ganze Zahl ein.\n"
     ]
    }
   ],
   "source": [
    "import math\n",
    "\n",
    "def binet_formula(n):\n",
    "    phi = (1 + math.sqrt(5)) / 2\n",
    "    psi = (1 - math.sqrt(5)) / 2\n",
    "    fib_n = int((math.pow(phi, n) - math.pow(psi, n)) / math.sqrt(5))\n",
    "    fib_n_minus_1 = int((math.pow(phi, n - 1) - math.pow(psi, n - 1)) / math.sqrt(5))\n",
    "    return fib_n / fib_n_minus_1\n",
    "\n",
    "def main():\n",
    "    try:\n",
    "        position = int(input(\"Geben Sie die Position in der Fibonacci-Folge ein: \"))\n",
    "        if position < 0:\n",
    "            print(\"Bitte geben Sie eine nicht-negative Position ein.\")\n",
    "        elif position == 0:\n",
    "            print(\"Der Wert an Position 0 ist 0.\")\n",
    "        else:\n",
    "            result_ratio = binet_formula(position)\n",
    "            print(f\"Das Verhältnis von Fibonacci-Zahl an Position {position} zu Position {position - 1} ist: {result_ratio:.10f}\")\n",
    "    except ValueError:\n",
    "        print(\"Ungültige Eingabe. Bitte geben Sie eine ganze Zahl ein.\")\n",
    "\n",
    "if __name__ == \"__main__\":\n",
    "    main()\n"
   ]
  }
 ],
 "metadata": {
  "kernelspec": {
   "display_name": "Python 3",
   "language": "python",
   "name": "python3"
  },
  "language_info": {
   "codemirror_mode": {
    "name": "ipython",
    "version": 3
   },
   "file_extension": ".py",
   "mimetype": "text/x-python",
   "name": "python",
   "nbconvert_exporter": "python",
   "pygments_lexer": "ipython3",
   "version": "3.11.4"
  }
 },
 "nbformat": 4,
 "nbformat_minor": 2
}
