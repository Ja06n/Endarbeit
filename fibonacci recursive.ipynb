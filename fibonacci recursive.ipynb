{
 "cells": [
  {
   "cell_type": "code",
   "execution_count": null,
   "metadata": {},
   "outputs": [],
   "source": [
    "# Definition der Funktion für die Fibonacci-Folge\n",
    "def fibonacci_recursive(n):\n",
    "    # Basisfall: Wenn n kleiner oder gleich 1 ist, ist das Ergebnis einfach n\n",
    "    if n <= 1:\n",
    "        return n\n",
    "    else:\n",
    "        # Ansonsten, summiere die beiden vorherigen Fibonacci-Zahlen\n",
    "        return fibonacci_recursive(n-1) + fibonacci_recursive(n-2)\n",
    "\n",
    "# Hauptfunktion des Programms\n",
    "def main():\n",
    "    try:\n",
    "        # Benutzereingabe für die maximale Anzahl der Iterationen\n",
    "        max_iterations = int(input(\"Geben Sie die maximale Anzahl der Iterationen ein: \"))\n",
    "        \n",
    "        # Überprüfe, ob die eingegebene Zahl nicht-negativ ist\n",
    "        if max_iterations < 0:\n",
    "            print(\"Bitte geben Sie eine nicht-negative Ganzzahl ein.\")\n",
    "            return\n",
    "\n",
    "        # Ausgabe der Fibonacci-Folge bis zur angegebenen maximalen Iteration\n",
    "        print(\"Fibonacci-Folge:\")\n",
    "        for i in range(max_iterations):\n",
    "            # Berechne die Fibonacci-Zahl für die aktuelle Iteration\n",
    "            result = fibonacci_recursive(i)\n",
    "            # Ausgabe der Fibonacci-Zahl\n",
    "            print(f\"F({i}) = {result}\")\n",
    "\n",
    "    # Behandlung von Fehlern, z.B. wenn die Benutzereingabe keine Ganzzahl ist\n",
    "    except ValueError:\n",
    "        print(\"Ungültige Eingabe. Bitte geben Sie eine gültige Ganzzahl ein.\")\n",
    "\n",
    "# Starte das Programm, wenn es direkt ausgeführt wird (nicht importiert)\n",
    "if __name__ == \"__main__\":\n",
    "    main()\n"
   ]
  }
 ],
 "metadata": {
  "language_info": {
   "name": "python"
  }
 },
 "nbformat": 4,
 "nbformat_minor": 2
}
